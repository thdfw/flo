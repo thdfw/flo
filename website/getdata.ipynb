{
 "cells": [
  {
   "cell_type": "code",
   "execution_count": 7,
   "metadata": {},
   "outputs": [
    {
     "name": "stdout",
     "output_type": "stream",
     "text": [
      "The latest message from Oak was found at 2023-12-01 07:00:00.186000+00:00\n",
      "\n",
      "zone1-living-rm-temp\n",
      "70.0\n",
      "zone1-living-rm-set\n",
      "70.0\n",
      "zone2-garage-temp\n",
      "55.0\n",
      "zone2-garage-set\n",
      "55.0\n"
     ]
    }
   ],
   "source": [
    "import dotenv\n",
    "import pendulum\n",
    "from gjk.config import Settings\n",
    "from gjk.models import ReadingSql, MessageSql\n",
    "from sqlalchemy import create_engine, desc, asc\n",
    "from sqlalchemy.orm import sessionmaker\n",
    "\n",
    "settings = Settings(_env_file=dotenv.find_dotenv())\n",
    "engine = create_engine(settings.db_url.get_secret_value())\n",
    "Session = sessionmaker(bind=engine)\n",
    "session = Session()\n",
    "\n",
    "timezone = \"America/New_York\"\n",
    "\n",
    "start = pendulum.datetime(2022, 1, 1, 0, 0, tz=timezone)\n",
    "start_ms = int(start.timestamp() * 1000)\n",
    "\n",
    "last_message_oak = session.query(MessageSql).filter(\n",
    "    MessageSql.from_alias.like('%oak%'),\n",
    "    MessageSql.message_persisted_ms >= start_ms).order_by(desc(MessageSql.message_persisted_ms)).first()\n",
    "\n",
    "print(f\"The latest message from Oak was found at {pendulum.from_timestamp(last_message_oak.message_persisted_ms/1000)}\\n\")\n",
    "\n",
    "for elem in last_message_oak.payload['DataChannelList']:\n",
    "    if 'zone' in elem['Name'] and 'gw' not in elem['Name']:\n",
    "        print(elem['Name'])\n",
    "        for reading in last_message_oak.payload['ChannelReadingList']:\n",
    "            if reading['ChannelId'] == elem['Id']:\n",
    "                print(reading['ValueList'][0]/1000)"
   ]
  },
  {
   "cell_type": "code",
   "execution_count": null,
   "metadata": {},
   "outputs": [],
   "source": [
    "import dotenv\n",
    "import pendulum\n",
    "from gjk.config import Settings\n",
    "from gjk.models import ReadingSql, MessageSql\n",
    "from sqlalchemy import create_engine, desc, asc\n",
    "from sqlalchemy.orm import sessionmaker\n",
    "\n",
    "settings = Settings(_env_file=dotenv.find_dotenv())\n",
    "engine = create_engine(settings.db_url.get_secret_value())\n",
    "Session = sessionmaker(bind=engine)\n",
    "session = Session()\n",
    "\n",
    "timezone = \"America/New_York\"\n",
    "\n",
    "start = pendulum.datetime(2022, 1, 1, 0, 0, tz=timezone)\n",
    "start_ms = int(start.timestamp() * 1000)\n",
    "\n",
    "last_message_oak = session.query(MessageSql).filter(\n",
    "    ReadingSql.data_channel_id.like('%oak%'),\n",
    "    ReadingSql.time_ms >= start_ms).order_by(desc(MessageSql.message_persisted_ms)).first()\n",
    "\n",
    "print(f\"The latest message from Oak was found at {pendulum.from_timestamp(last_message_oak.message_persisted_ms/1000)}\\n\")"
   ]
  }
 ],
 "metadata": {
  "kernelspec": {
   "display_name": "ada",
   "language": "python",
   "name": "python3"
  },
  "language_info": {
   "codemirror_mode": {
    "name": "ipython",
    "version": 3
   },
   "file_extension": ".py",
   "mimetype": "text/x-python",
   "name": "python",
   "nbconvert_exporter": "python",
   "pygments_lexer": "ipython3",
   "version": "3.12.4"
  }
 },
 "nbformat": 4,
 "nbformat_minor": 2
}
